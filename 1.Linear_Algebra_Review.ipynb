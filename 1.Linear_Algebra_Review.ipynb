{
 "cells": [
  {
   "cell_type": "code",
   "execution_count": 1,
   "metadata": {
    "slideshow": {
     "slide_type": "skip"
    }
   },
   "outputs": [
    {
     "name": "stdout",
     "output_type": "stream",
     "text": [
      "Populating the interactive namespace from numpy and matplotlib\n"
     ]
    }
   ],
   "source": [
    "%pylab inline\n",
    "import numpy as np\n",
    "from scipy import *"
   ]
  },
  {
   "cell_type": "markdown",
   "metadata": {
    "slideshow": {
     "slide_type": "slide"
    }
   },
   "source": [
    "## Review of linear algebra\n",
    "\n",
    "This notebook is a quick review of the concepts and notation of linear algebra and their implementation in the python library `numpy`.\n",
    "\n",
    "It is not intended as a course in linear algebra. For an excellent elementary introduction to vectors and linear algebra, see [Gilbert Strang's course on linear algebra](http://web.mit.edu/18.06/www/videos.shtml)"
   ]
  },
  {
   "cell_type": "markdown",
   "metadata": {
    "slideshow": {
     "slide_type": "slide"
    }
   },
   "source": [
    "## Vectors\n",
    "* arrows\n",
    "* velocity and direction\n",
    "* location in the plane or in 3D space.\n",
    "* many many other things."
   ]
  },
  {
   "cell_type": "markdown",
   "metadata": {
    "slideshow": {
     "slide_type": "skip"
    }
   },
   "source": [
    "Vectors spaces are the at the basis of linear algebra. They can be used to describe many things: from points in the plane, to time series to the configuration of electrons in an atom. This notebook is a brief review of some of the main concepts regarding vectors in finite dimensional Euclidean space. "
   ]
  },
  {
   "cell_type": "markdown",
   "metadata": {
    "slideshow": {
     "slide_type": "subslide"
    }
   },
   "source": [
    "### A 2D vector\n",
    "\n",
    "<img style=\"width:400px\" src=\"images/vector.png\">"
   ]
  },
  {
   "cell_type": "markdown",
   "metadata": {
    "slideshow": {
     "slide_type": "subslide"
    }
   },
   "source": [
    "### A 3D vector\n",
    "\n",
    "<img style=\"width:300px\" src=\"images/vectorGeom1.png\">"
   ]
  },
  {
   "cell_type": "markdown",
   "metadata": {
    "slideshow": {
     "slide_type": "subslide"
    }
   },
   "source": [
    "### Vector notation"
   ]
  },
  {
   "cell_type": "markdown",
   "metadata": {
    "slideshow": {
     "slide_type": "fragment"
    }
   },
   "source": [
    "* We will denote vectors by letters with a little arrow on top: $\\vec{a},\\vec{b},\\vec{v}_1,\\vec{v}_2,\\ldots$"
   ]
  },
  {
   "cell_type": "markdown",
   "metadata": {
    "slideshow": {
     "slide_type": "subslide"
    }
   },
   "source": [
    "* Vectors are grouped by **dimension ${\\bf d}$**, the set of all $d$ dimensional (euclidean) vectors is denoted $R^d$."
   ]
  },
  {
   "cell_type": "markdown",
   "metadata": {
    "slideshow": {
     "slide_type": "fragment"
    }
   },
   "source": [
    "* A 2D vector is an element of $R^2$ and is described by a sequence of **two** real numbers: $\\vec{a} = [1,\\pi]$ or $\\vec{b}=[-1.56,1.2]$"
   ]
  },
  {
   "cell_type": "markdown",
   "metadata": {
    "slideshow": {
     "slide_type": "fragment"
    }
   },
   "source": [
    "* A 3D vector is an element of $R^3$  \n",
    "described by a sequence of **three** numbers:  \n",
    "$\\vec{a} = [1,\\pi,-\\pi]$ or $\\vec{b}=[-1.56,1.2,0]$"
   ]
  },
  {
   "cell_type": "markdown",
   "metadata": {
    "slideshow": {
     "slide_type": "subslide"
    }
   },
   "source": [
    "* A $d$ dimensional vector is an element of $R^d$ and is described by a sequence of $d$ real numbers: $\\vec{a} = [a_1,a_2,\\ldots,a_d]$"
   ]
  },
  {
   "cell_type": "markdown",
   "metadata": {
    "slideshow": {
     "slide_type": "skip"
    }
   },
   "source": [
    "### Lists vs Numpy Arrays\n",
    "\n",
    "The numpy library (we will reference it by np) is the workhorse library for linear algebra in python.  To creat a vector simply surround a python list ($[1,2,3]$) with the np.array function:"
   ]
  },
  {
   "cell_type": "code",
   "execution_count": 2,
   "metadata": {
    "slideshow": {
     "slide_type": "skip"
    }
   },
   "outputs": [
    {
     "name": "stdout",
     "output_type": "stream",
     "text": [
      "[1 2 3]\n"
     ]
    }
   ],
   "source": [
    "x_vector = np.array([1,2,3])\n",
    "print(x_vector)"
   ]
  },
  {
   "cell_type": "markdown",
   "metadata": {
    "slideshow": {
     "slide_type": "skip"
    }
   },
   "source": [
    "The function `np.array` converts a python list and converts it to an array:"
   ]
  },
  {
   "cell_type": "code",
   "execution_count": 3,
   "metadata": {
    "slideshow": {
     "slide_type": "skip"
    }
   },
   "outputs": [
    {
     "name": "stdout",
     "output_type": "stream",
     "text": [
      "The list: [1, 2]\n",
      "Has length: 2\n",
      "The vector: [1 2]\n",
      "Has shape: (2,)\n"
     ]
    }
   ],
   "source": [
    "c_list = [1,2]\n",
    "print(\"The list:\",c_list)\n",
    "print(\"Has length:\", len(c_list))\n",
    "\n",
    "c_vector = np.array(c_list)\n",
    "print(\"The vector:\", c_vector)\n",
    "print(\"Has shape:\",c_vector.shape)"
   ]
  },
  {
   "cell_type": "code",
   "execution_count": 4,
   "metadata": {
    "slideshow": {
     "slide_type": "skip"
    }
   },
   "outputs": [
    {
     "name": "stdout",
     "output_type": "stream",
     "text": [
      "This is a list, not an array: [5, 6]\n",
      "<class 'list'>\n"
     ]
    }
   ],
   "source": [
    "z = [5,6]   # a list\n",
    "print(\"This is a list, not an array:\",z)\n",
    "print(type(z))"
   ]
  },
  {
   "cell_type": "code",
   "execution_count": 5,
   "metadata": {
    "scrolled": true,
    "slideshow": {
     "slide_type": "skip"
    }
   },
   "outputs": [
    {
     "name": "stdout",
     "output_type": "stream",
     "text": [
      "This is an array, not a list [5 6]\n",
      "<class 'numpy.ndarray'>\n"
     ]
    }
   ],
   "source": [
    "zarray = np.array(z)\n",
    "print(\"This is an array, not a list\",zarray)\n",
    "print(type(zarray))"
   ]
  },
  {
   "cell_type": "markdown",
   "metadata": {
    "slideshow": {
     "slide_type": "slide"
    }
   },
   "source": [
    "### Arrays as Vectors\n",
    "One way to define vectors in numpy is to use a one dimensional array."
   ]
  },
  {
   "cell_type": "code",
   "execution_count": 6,
   "metadata": {
    "slideshow": {
     "slide_type": "fragment"
    }
   },
   "outputs": [
    {
     "name": "stdout",
     "output_type": "stream",
     "text": [
      "[1 2] [-1  1]\n"
     ]
    }
   ],
   "source": [
    "v1=np.array([1,2])\n",
    "v2=np.array([-1,1])\n",
    "print(v1,v2)"
   ]
  },
  {
   "cell_type": "markdown",
   "metadata": {
    "slideshow": {
     "slide_type": "subslide"
    }
   },
   "source": [
    "#### Vector dimension vs. Array dimension\n",
    "\n",
    "The word **dimension** has two different meanings in this context."
   ]
  },
  {
   "cell_type": "markdown",
   "metadata": {
    "slideshow": {
     "slide_type": "fragment"
    }
   },
   "source": [
    "* The array `np.array([1,2,3,4])` **defines a vector** in $R^4$, i.e. a vector of dimension $4$ "
   ]
  },
  {
   "cell_type": "markdown",
   "metadata": {
    "slideshow": {
     "slide_type": "fragment"
    }
   },
   "source": [
    "* The array `np.array([1,2,3,4])`  \n",
    "**is** a 1D array, which is a list of numbers."
   ]
  },
  {
   "cell_type": "markdown",
   "metadata": {
    "slideshow": {
     "slide_type": "subslide"
    }
   },
   "source": [
    "* The array `np.array([[1,2],[3,4]])` is a 2D array, which is a rectangle of numbers."
   ]
  },
  {
   "cell_type": "markdown",
   "metadata": {
    "slideshow": {
     "slide_type": "fragment"
    }
   },
   "source": [
    "* A 2D array is also called a **Matrix** (more about those later)"
   ]
  },
  {
   "cell_type": "code",
   "execution_count": 7,
   "metadata": {
    "slideshow": {
     "slide_type": "fragment"
    }
   },
   "outputs": [
    {
     "data": {
      "text/plain": [
       "array([[1, 2],\n",
       "       [3, 4]])"
      ]
     },
     "execution_count": 7,
     "metadata": {},
     "output_type": "execute_result"
    }
   ],
   "source": [
    "np.array([[1,2],[3,4]])"
   ]
  },
  {
   "cell_type": "markdown",
   "metadata": {
    "slideshow": {
     "slide_type": "slide"
    }
   },
   "source": [
    "### Visualizing 2D vectors."
   ]
  },
  {
   "cell_type": "markdown",
   "metadata": {
    "slideshow": {
     "slide_type": "skip"
    }
   },
   "source": [
    "The world that we see and experience is three dimensional. Therefor vectors in $R^3$ can be visualized. The screen you are looking at is 2D, which makes it particularly easy to visualize 2D vectors.\n",
    "\n",
    "Vectors are commonly represented by arrows. The tail of the arrow is at zero, and the $(x,y)$ coordinates of the head of the arrow correspond to the two components of the vector: $\\vec{a} = [a_1,a_2]$ "
   ]
  },
  {
   "cell_type": "code",
   "execution_count": 8,
   "metadata": {
    "slideshow": {
     "slide_type": "skip"
    }
   },
   "outputs": [],
   "source": [
    "import matplotlib.pyplot as plt\n",
    "from numpy.linalg import norm\n",
    "text_loc=1.1\n",
    "def plot_arrows(L,scale=4,text_loc=0.2,fontsize=12):\n",
    "    \"\"\" Plot a list of arrows. Each arrow defined by start and end points and a color and optionally text\"\"\"\n",
    "    plt.figure(figsize=[6,6])\n",
    "    plt.xlim([-scale,scale])\n",
    "    plt.ylim([-scale,scale])\n",
    "    ax = plt.axes()\n",
    "    plt.xlabel('1st coord (x)')\n",
    "    plt.ylabel('2nd coord (y)')\n",
    "    #ax.axis('equal')\n",
    "\n",
    "    for A in L:\n",
    "        s,e,c=A[:3]\n",
    "        ax.arrow(s[0], s[1], e[0], e[1], head_width=0.05*scale, head_length=0.1*scale, fc=c, ec=c,length_includes_head=True);\n",
    "        if len(A)==4:\n",
    "            t=A[3]\n",
    "            _loc=1+text_loc/norm(e)\n",
    "            ax.text(_loc*e[0],_loc*e[1],t,fontsize=fontsize)\n",
    "    plt.grid()\n",
    "    return ax\n",
    "zero=np.array([0,0])"
   ]
  },
  {
   "cell_type": "markdown",
   "metadata": {
    "slideshow": {
     "slide_type": "fragment"
    }
   },
   "source": [
    "Here are a few examples:"
   ]
  },
  {
   "cell_type": "code",
   "execution_count": 9,
   "metadata": {
    "slideshow": {
     "slide_type": "subslide"
    }
   },
   "outputs": [
    {
     "name": "stderr",
     "output_type": "stream",
     "text": [
      "C:\\Users\\BB\\Anaconda3\\lib\\site-packages\\matplotlib\\figure.py:98: MatplotlibDeprecationWarning: \n",
      "Adding an axes using the same arguments as a previous axes currently reuses the earlier instance.  In a future version, a new instance will always be created and returned.  Meanwhile, this warning can be suppressed, and the future behavior ensured, by passing a unique label to each axes instance.\n",
      "  \"Adding an axes using the same arguments as a previous axes \"\n"
     ]
    },
    {
     "data": {
      "image/png": "[encoded data removed]",
      "text/plain": [
       "<Figure size 432x432 with 1 Axes>"
      ]
     },
     "metadata": {
      "needs_background": "light"
     },
     "output_type": "display_data"
    }
   ],
   "source": [
    "v1=np.array([1,2])\n",
    "v2=np.array([-1,1])\n",
    "v3=np.array([0,-2])\n",
    "plot_arrows([[zero,v1,'r',str(v1)],[zero,v2,'k',str(v2)],[zero,v3,'b',str(v3)]]);"
   ]
  },
  {
   "cell_type": "markdown",
   "metadata": {
    "slideshow": {
     "slide_type": "subslide"
    }
   },
   "source": [
    "### Operations on Vectors\n",
    "Vectors (represented as 1D arrays) can be added, inverted, and multiplied by a scalar"
   ]
  },
  {
   "cell_type": "code",
   "execution_count": 10,
   "metadata": {
    "hide_input": false,
    "scrolled": false,
    "slideshow": {
     "slide_type": "fragment"
    }
   },
   "outputs": [
    {
     "name": "stdout",
     "output_type": "stream",
     "text": [
      "v1= [1 2] v2= [-1  1]\n",
      "v1+v2= [0 3]\n",
      "4*v2= [-4  4]\n",
      "-v1= [-1 -2]\n"
     ]
    }
   ],
   "source": [
    "print('v1=',v1,'v2=',v2)\n",
    "print('v1+v2=',v1+v2)\n",
    "print('4*v2=',4*v2)\n",
    "print('-v1=',-v1)"
   ]
  },
  {
   "cell_type": "code",
   "execution_count": 11,
   "metadata": {
    "hide_input": true,
    "scrolled": false,
    "slideshow": {
     "slide_type": "subslide"
    }
   },
   "outputs": [
    {
     "name": "stdout",
     "output_type": "stream",
     "text": [
      "v1= [1 2] v2= [-1  1]\n",
      "the red arrow is v1, the black arrow is v2, the blue arrow is v1+v2\n"
     ]
    },
    {
     "data": {
      "image/png": "[encoded data removed]",
      "text/plain": [
       "<Figure size 432x432 with 1 Axes>"
      ]
     },
     "metadata": {
      "needs_background": "light"
     },
     "output_type": "display_data"
    }
   ],
   "source": [
    "# A visualization of the sum of two 2D vectors.\n",
    "v1=np.array([1,2])\n",
    "v2=np.array([-1,1])\n",
    "print('v1=',v1,'v2=',v2)\n",
    "print(\"the red arrow is v1, the black arrow is v2, the blue arrow is v1+v2\")\n",
    "plot_arrows([[zero,v1,'r','$\\\\vec{v}_1$'],[zero,v2,'k','$\\\\vec{v}_2$'],[v1,v2,'k'],[zero,v1+v2,'b','$\\\\vec{v}_1+\\\\vec{v}_2$']],fontsize=15);"
   ]
  },
  {
   "cell_type": "code",
   "execution_count": 12,
   "metadata": {
    "scrolled": true,
    "slideshow": {
     "slide_type": "subslide"
    }
   },
   "outputs": [
    {
     "name": "stdout",
     "output_type": "stream",
     "text": [
      "the two vectors have different dimensions\n"
     ]
    }
   ],
   "source": [
    "#Two vectors can be summed only if they have the same dimension:\n",
    "try:\n",
    "    np.array([1,1])+np.array([1,1,1])\n",
    "except:\n",
    "    print('the two vectors have different dimensions')"
   ]
  },
  {
   "cell_type": "code",
   "execution_count": 13,
   "metadata": {
    "hide_input": true,
    "slideshow": {
     "slide_type": "subslide"
    }
   },
   "outputs": [
    {
     "name": "stdout",
     "output_type": "stream",
     "text": [
      "v= [1 2] c= -0.5\n",
      "the red arrow is v, the black arrow is -0.50*v\n"
     ]
    },
    {
     "data": {
      "image/png": "[encoded data removed]",
      "text/plain": [
       "<Figure size 432x432 with 1 Axes>"
      ]
     },
     "metadata": {
      "needs_background": "light"
     },
     "output_type": "display_data"
    }
   ],
   "source": [
    "v=np.array([1,2])\n",
    "c=-.5\n",
    "print('v=',v1,'c=',c)\n",
    "print(\"the red arrow is v, the black arrow is %4.2f*v\"%c)\n",
    "plot_arrows([[zero,v1,'r','$\\\\vec{v}$'],[zero,c*v1,'k',\"%4.2f$\\\\vec{v}$\"%c]],text_loc=0.3,scale=3);"
   ]
  },
  {
   "cell_type": "markdown",
   "metadata": {
    "slideshow": {
     "slide_type": "slide"
    }
   },
   "source": [
    "### The inner product\n",
    "The **inner product** or **dot product** is an operation that takes as input two vectors of the same dimension, and outputs a number (a scalar). The mathematical notation for the dot product of the vectors $\\vec{a}$ and $\\vec{b}$ is $\\vec{a} \\cdot \\vec{b}$"
   ]
  },
  {
   "cell_type": "code",
   "execution_count": 14,
   "metadata": {
    "hide_input": false,
    "slideshow": {
     "slide_type": "subslide"
    }
   },
   "outputs": [
    {
     "name": "stdout",
     "output_type": "stream",
     "text": [
      "three ways to calculate the dot product of  [1 2] [-1  1] all give the same result:\n",
      "1\n",
      "1\n",
      "1\n"
     ]
    }
   ],
   "source": [
    "print(\"three ways to calculate the dot product of \",v1,v2,'all give the same result:')\n",
    "print(np.dot(v1,v2),)\n",
    "print(v1[0]*v2[0] + v1[1]*v2[1],)\n",
    "print(sum([v1[i]*v2[i] for i in range(len(v1))]) )"
   ]
  },
  {
   "cell_type": "markdown",
   "metadata": {
    "slideshow": {
     "slide_type": "subslide"
    }
   },
   "source": [
    "### The norm of a vector\n",
    "The **length**, **magnitude** or **norm** of a vector is the distance between the origin, where the vectors starts, and it's tip. Calculated as:\n",
    "$$\\| \\vec{v} \\| = \\sqrt{\\sum_i v_i^2} = \\sqrt{\\vec{v}\\cdot\\vec{v}}$$\n",
    "\n",
    "<img style=\"width:300px\" src=\"images/vector.png\">"
   ]
  },
  {
   "cell_type": "code",
   "execution_count": 15,
   "metadata": {
    "slideshow": {
     "slide_type": "subslide"
    }
   },
   "outputs": [
    {
     "name": "stdout",
     "output_type": "stream",
     "text": [
      "two ways of calculating the norm of the vector [1 2]\n",
      "2.23606797749979\n",
      "2.23606797749979\n"
     ]
    }
   ],
   "source": [
    "from numpy.linalg import norm\n",
    "from math import sqrt\n",
    "print(\"two ways of calculating the norm of the vector\",v1)\n",
    "print(sqrt(np.dot(v1,v1)),)\n",
    "print(norm(v1))"
   ]
  },
  {
   "cell_type": "markdown",
   "metadata": {
    "slideshow": {
     "slide_type": "slide"
    }
   },
   "source": [
    "### Unit vectors\n",
    "Of particular importance are vectors whose norm is **1**, such vectors are called *unit vectors*"
   ]
  },
  {
   "cell_type": "code",
   "execution_count": 16,
   "metadata": {
    "hide_input": true,
    "slideshow": {
     "slide_type": "subslide"
    }
   },
   "outputs": [
    {
     "name": "stdout",
     "output_type": "stream",
     "text": [
      "Any vector can be *normalized* to have unit length \n",
      "by dividing the vector by its norm.\n",
      "below we set `u1` to be the normalized version of `v1`\n",
      "\n",
      "v1= [1 2] norm(v1)= 2.23606797749979\n",
      "u1 is a normalized version of v1: u1=v1/norm(v1)\n",
      "u1= [0.4472136  0.89442719] norm(u1)= 0.9999999999999999\n"
     ]
    }
   ],
   "source": [
    "print( \"\"\"Any vector can be *normalized* to have unit length \n",
    "by dividing the vector by its norm.\n",
    "below we set `u1` to be the normalized version of `v1`\n",
    "\"\"\")\n",
    "\n",
    "print('v1=',v1,'norm(v1)=',norm(v))\n",
    "print('u1 is a normalized version of v1: u1=v1/norm(v1)')\n",
    "u1=v1/norm(v1)\n",
    "print('u1=',u1,'norm(u1)=',norm(u1))"
   ]
  },
  {
   "cell_type": "markdown",
   "metadata": {
    "slideshow": {
     "slide_type": "slide"
    }
   },
   "source": [
    "### Projections\n",
    "Taking the dot product of an arbitrary vector `v2` with a unit vector `u1` has a simple geometric interpretation"
   ]
  },
  {
   "cell_type": "code",
   "execution_count": 17,
   "metadata": {
    "slideshow": {
     "slide_type": "fragment"
    }
   },
   "outputs": [
    {
     "name": "stdout",
     "output_type": "stream",
     "text": [
      "[0.2 0.4]\n"
     ]
    }
   ],
   "source": [
    "p=u1*np.dot(u1,v2)\n",
    "print(p)"
   ]
  },
  {
   "cell_type": "code",
   "execution_count": 18,
   "metadata": {
    "hide_input": true,
    "scrolled": false,
    "slideshow": {
     "slide_type": "subslide"
    }
   },
   "outputs": [
    {
     "name": "stdout",
     "output_type": "stream",
     "text": [
      "The red arrow is the unit vector u1, the black arrow is v2\n",
      "The blue line indicates the projection of v2 on the direction u1\n",
      "The green arrow is the result of this projection\n",
      "The NORM of the green arrow is equal to the dot product dot(u1,v2)\n"
     ]
    },
    {
     "data": {
      "image/png": "[encoded data removed]",
      "text/plain": [
       "<Figure size 432x432 with 1 Axes>"
      ]
     },
     "metadata": {
      "needs_background": "light"
     },
     "output_type": "display_data"
    }
   ],
   "source": [
    "print(\"\"\"The red arrow is the unit vector u1, the black arrow is v2\n",
    "The blue line indicates the projection of v2 on the direction u1\n",
    "The green arrow is the result of this projection\n",
    "The NORM of the green arrow is equal to the dot product dot(u1,v2)\"\"\")\n",
    "ax=plot_arrows([[zero,u1,'r','$\\\\vec{u}_1$'],[zero,v2,'k','$\\\\vec{v}_2$'],\\\n",
    "                [zero,p,'g',\"$\\\\vec{u}_1(\\\\vec{u}_1\\\\cdot \\\\vec{v}_2)$\"]],\\\n",
    "               scale=1.1,text_loc=0.05)\n",
    "ax.plot([v2[0],p[0]],[v2[1],p[1]]);"
   ]
  },
  {
   "cell_type": "markdown",
   "metadata": {
    "slideshow": {
     "slide_type": "slide"
    }
   },
   "source": [
    "### Orthogonal vectors\n",
    "Two vectors are orthogonal if their dot product is zero.\n",
    "\n",
    "Equivalently, two vectors are orthogonal if the angle between them is 90 degrees."
   ]
  },
  {
   "cell_type": "code",
   "execution_count": 19,
   "metadata": {
    "hide_input": true,
    "slideshow": {
     "slide_type": "subslide"
    }
   },
   "outputs": [
    {
     "name": "stdout",
     "output_type": "stream",
     "text": [
      "black vector= [2 2] red_vector= [-1  1]\n",
      "np.dot(a,b)= 0\n"
     ]
    },
    {
     "data": {
      "image/png": "[encoded data removed]",
      "text/plain": [
       "<Figure size 432x432 with 1 Axes>"
      ]
     },
     "metadata": {
      "needs_background": "light"
     },
     "output_type": "display_data"
    }
   ],
   "source": [
    "a=np.array([2,2])\n",
    "b=np.array([-1,1])\n",
    "print('black vector=',a,'red_vector=',b)\n",
    "print('np.dot(a,b)=',np.dot(a,b))\n",
    "plot_arrows([[zero,a,'r'],[zero,b,'k']],scale=2.1);"
   ]
  },
  {
   "cell_type": "markdown",
   "metadata": {
    "slideshow": {
     "slide_type": "slide"
    }
   },
   "source": [
    "## Orthonormal basis\n",
    "We say that the vectors $\\vec{u}_1,\\vec{u}_2,\\ldots,\\vec{u}_d \\in R^d$ form an **orthonormal basis** of $R^d$. If:"
   ]
  },
  {
   "cell_type": "markdown",
   "metadata": {
    "slideshow": {
     "slide_type": "subslide"
    }
   },
   "source": [
    "**Normality:** $\\vec{u}_1,\\vec{u}_2,\\ldots,\\vec{u}_d$ are unit vectors:  \n",
    "$\\forall 1 \\leq i \\leq d: \\vec{u}_i \\cdot \\vec{u}_i =1 $"
   ]
  },
  {
   "cell_type": "markdown",
   "metadata": {
    "slideshow": {
     "slide_type": "fragment"
    }
   },
   "source": [
    "**Orthogonality:** Every pair of vectors are orthogonal:  \n",
    "$\\forall 1 \\leq i\\neq j \\leq d: \\vec{u}_i \\cdot \\vec{u}_j =0 $"
   ]
  },
  {
   "cell_type": "markdown",
   "metadata": {
    "slideshow": {
     "slide_type": "subslide"
    }
   },
   "source": [
    "### The Standard basis\n",
    "The standard basis is: $\\vec{e}_1 = [1,0,0,\\ldots,0], \\vec{e}_2 = [0,1,0,\\ldots,0],$   \n",
    "\n",
    "$\\ldots,\\vec{e}_d = [0,0,0,\\ldots,1]$"
   ]
  },
  {
   "cell_type": "markdown",
   "metadata": {
    "slideshow": {
     "slide_type": "fragment"
    }
   },
   "source": [
    "The dot product of a vector $\\vec{v}$  \n",
    "with a standard basis vector $\\vec{e}_i$  \n",
    "is equal to the $i$th coordinate of $\\vec{v}$,  \n",
    "which we denote by $v_i$"
   ]
  },
  {
   "cell_type": "code",
   "execution_count": 20,
   "metadata": {
    "slideshow": {
     "slide_type": "subslide"
    }
   },
   "outputs": [
    {
     "data": {
      "text/plain": [
       "6"
      ]
     },
     "execution_count": 20,
     "metadata": {},
     "output_type": "execute_result"
    }
   ],
   "source": [
    "v=np.array([5,6,3,4])\n",
    "e2=np.array([0,1,0,0])\n",
    "np.dot(v,e2)"
   ]
  },
  {
   "cell_type": "markdown",
   "metadata": {
    "slideshow": {
     "slide_type": "subslide"
    }
   },
   "source": [
    "### Reconstruction using an orthonormal basis\n",
    "Orthonormal basis define a *coordinate system* and allow us to move between coordinate systems.\n",
    "\n",
    "An orthonormal basis $\\vec{u}_1,\\ldots,\\vec{u}_d$ can be used to represent any vector $\\vec{v}$ in the following way. "
   ]
  },
  {
   "cell_type": "markdown",
   "metadata": {
    "slideshow": {
     "slide_type": "subslide"
    }
   },
   "source": [
    "$\\vec{v}$ is **represented** as a list of $d$ dot products: $$[\\vec{v}\\cdot\\vec{u_1},\\vec{v}\\cdot\\vec{u_2},\\ldots,\\vec{v}\\cdot\\vec{u_d}]$$"
   ]
  },
  {
   "cell_type": "markdown",
   "metadata": {
    "slideshow": {
     "slide_type": "fragment"
    }
   },
   "source": [
    "$\\vec{v}$ is **reconstructed** by summing its projections on the basis vectors:\n",
    "$$\\vec{v} = (\\vec{v}\\cdot\\vec{u_1})\\vec{u_1} + \\cdots + (\\vec{v}\\cdot\\vec{u_d})\\vec{u_d}$$"
   ]
  },
  {
   "cell_type": "markdown",
   "metadata": {
    "slideshow": {
     "slide_type": "subslide"
    }
   },
   "source": [
    "* Representing a vector $\\vec{v}$ using the **standard** basis is yields the representation $[v_1,v_2,\\ldots,v_d]$"
   ]
  },
  {
   "cell_type": "markdown",
   "metadata": {
    "slideshow": {
     "slide_type": "fragment"
    }
   },
   "source": [
    "* Representing $\\vec{v}$ using an orthonormal basis is called a **change of basis**"
   ]
  },
  {
   "cell_type": "markdown",
   "metadata": {
    "slideshow": {
     "slide_type": "slide"
    }
   },
   "source": [
    "### Visualizing change of basis\n",
    "It is instructive to visualize a change of basis in $R^2$"
   ]
  },
  {
   "cell_type": "code",
   "execution_count": 21,
   "metadata": {
    "hide_input": true,
    "slideshow": {
     "slide_type": "subslide"
    }
   },
   "outputs": [
    {
     "name": "stdout",
     "output_type": "stream",
     "text": [
      "We are changing the basis representing the vector v\n",
      "from the standard basis (e1,e2) to a new orthonormal basis (u1,u2)\n",
      "The green arrows are the projections of v onto the directions defined by u1 and u2\n"
     ]
    },
    {
     "data": {
      "image/png": "[encoded data removed]",
      "text/plain": [
       "<Figure size 432x432 with 1 Axes>"
      ]
     },
     "metadata": {
      "needs_background": "light"
     },
     "output_type": "display_data"
    }
   ],
   "source": [
    "from math import sin,cos\n",
    "v=np.array([-1,-2])\n",
    "e1=np.array([1,0])\n",
    "e2=np.array([0,1])\n",
    "angle=np.pi/6.0 # 30 degrees\n",
    "u1=np.array([cos(angle),sin(angle)])\n",
    "u2=np.array([-sin(angle),cos(angle)])\n",
    "v,e1,e2,u1,u2\n",
    "p1=u1*np.dot(u1,v)\n",
    "p2=u2*np.dot(u2,v)\n",
    "ax=plot_arrows([[zero,u1,'r','$\\\\vec{u}_1$'],[zero,u2,'r','$\\\\vec{u}_2$'],\n",
    "               [zero,e1,'k','$\\\\vec{e}_1$'],[zero,e2,'k','$\\\\vec{e}_2$'],\\\n",
    "               [zero,v,'b','$\\\\vec{v}$'],\\\n",
    "               [zero,p1,'g',\"$\\\\vec{u}_1(\\\\vec{u}_1\\\\cdot \\\\vec{v})$\"],\\\n",
    "               [zero,p2,'g',\"$\\\\vec{u}_2(\\\\vec{u}_2\\\\cdot \\\\vec{v})$\"]],\\\n",
    "               scale=2.2,text_loc=0.2)\n",
    "ax.plot([v[0],p1[0]],[v[1],p1[1]],'m');\n",
    "ax.plot([v[0],p2[0]],[v[1],p2[1]],'m');\n",
    "print(\"\"\"We are changing the basis representing the vector v\n",
    "from the standard basis (e1,e2) to a new orthonormal basis (u1,u2)\n",
    "The green arrows are the projections of v onto the directions defined by u1 and u2\"\"\")"
   ]
  },
  {
   "cell_type": "markdown",
   "metadata": {
    "slideshow": {
     "slide_type": "slide"
    }
   },
   "source": [
    "## Next video: Matrix notation."
   ]
  },
  {
   "cell_type": "code",
   "execution_count": null,
   "metadata": {},
   "outputs": [],
   "source": []
  },
  {
   "cell_type": "code",
   "execution_count": null,
   "metadata": {},
   "outputs": [],
   "source": []
  }
 ],
 "metadata": {
  "kernelspec": {
   "display_name": "Python 3",
   "language": "python",
   "name": "python3"
  },
  "language_info": {
   "codemirror_mode": {
    "name": "ipython",
    "version": 3
   },
   "file_extension": ".py",
   "mimetype": "text/x-python",
   "name": "python",
   "nbconvert_exporter": "python",
   "pygments_lexer": "ipython3",
   "version": "3.7.1"
  },
  "toc": {
   "base_numbering": 1,
   "nav_menu": {
    "height": "306px",
    "width": "252px"
   },
   "number_sections": true,
   "sideBar": true,
   "skip_h1_title": false,
   "title_cell": "Table of Contents",
   "title_sidebar": "Contents",
   "toc_cell": false,
   "toc_position": {
    "height": "486px",
    "left": "0px",
    "right": "893px",
    "top": "134px",
    "width": "183px"
   },
   "toc_section_display": "block",
   "toc_window_display": false
  },
  "varInspector": {
   "cols": {
    "lenName": 16,
    "lenType": 16,
    "lenVar": 40
   },
   "kernels_config": {
    "python": {
     "delete_cmd_postfix": "",
     "delete_cmd_prefix": "del ",
     "library": "var_list.py",
     "varRefreshCmd": "print(var_dic_list())"
    },
    "r": {
     "delete_cmd_postfix": ") ",
     "delete_cmd_prefix": "rm(",
     "library": "var_list.r",
     "varRefreshCmd": "cat(var_dic_list()) "
    }
   },
   "types_to_exclude": [
    "module",
    "function",
    "builtin_function_or_method",
    "instance",
    "_Feature"
   ],
   "window_display": false
  }
 },
 "nbformat": 4,
 "nbformat_minor": 1
}
